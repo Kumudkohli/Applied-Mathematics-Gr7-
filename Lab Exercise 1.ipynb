{
 "cells": [
  {
   "cell_type": "markdown",
   "metadata": {},
   "source": [
    "<p style=\"font-family: Arial; font-size:3em;color:black;\"> Lab 1 </p>"
   ]
  },
  {
   "cell_type": "markdown",
   "metadata": {},
   "source": [
    "Students name in this Group:"
   ]
  },
  {
   "cell_type": "code",
   "execution_count": 3,
   "metadata": {},
   "outputs": [],
   "source": [
    "# importing numpy\n",
    "import numpy as np"
   ]
  },
  {
   "cell_type": "code",
   "execution_count": 25,
   "metadata": {},
   "outputs": [
    {
     "name": "stdout",
     "output_type": "stream",
     "text": [
      "The array: [1 2 3 5 0]\n",
      "Are all the elements non-zero? False\n"
     ]
    }
   ],
   "source": [
    "# Create a numpy array with the elements \"1, 2, 3, 5, 0\", print the array and test if all of its elements are non-zero.\n",
    "array1 = np.array([1,2,3,5,0])\n",
    "print(f\"The array: {array1}\")\n",
    "print(f\"Are all the elements non-zero? {array1.all()}\")"
   ]
  },
  {
   "cell_type": "code",
   "execution_count": 26,
   "metadata": {},
   "outputs": [
    {
     "name": "stdout",
     "output_type": "stream",
     "text": [
      "The array: [ 3 -1  3  7  2]\n",
      "Is any element non-zero? True\n"
     ]
    }
   ],
   "source": [
    "# Create a numpy array with the elements \"3, -1, 3, 7, 2\", print the array and test if any of its elements is non-zero.\n",
    "array2 = np.array([3,-1,3,7,2])\n",
    "print(f\"The array: {array2}\")\n",
    "print(f\"Is any element non-zero? {array2.any()}\")"
   ]
  },
  {
   "cell_type": "code",
   "execution_count": 29,
   "metadata": {},
   "outputs": [
    {
     "name": "stdout",
     "output_type": "stream",
     "text": [
      "The array: [0 0 0 0]\n",
      "Is any element non-zero? False\n"
     ]
    }
   ],
   "source": [
    "# Create a numpy array with the elements \"0, 0, 0, 0\", print the array and test if any of its elements is non-zero.\n",
    "array3 = np.array([0]*4)\n",
    "print(f\"The array: {array3}\")\n",
    "print(f\"Is any element non-zero? {array3.any()}\")"
   ]
  },
  {
   "cell_type": "code",
   "execution_count": 32,
   "metadata": {},
   "outputs": [
    {
     "name": "stdout",
     "output_type": "stream",
     "text": [
      "[56 -2  7]\n",
      "3\n"
     ]
    }
   ],
   "source": [
    "# Create a numpy array with the elements \"56, -2, 7\", print the array and the amount of memory required to store it.\n",
    "array4 = np.array([56,-2,7])\n",
    "print(array4)\n",
    "print(array4.size)"
   ]
  },
  {
   "cell_type": "code",
   "execution_count": 39,
   "metadata": {},
   "outputs": [
    {
     "name": "stdout",
     "output_type": "stream",
     "text": [
      "[0. 0. 0. 0. 0. 0. 0. 0. 0. 0.]\n",
      "[1. 1. 1. 1. 1. 1.]\n",
      "[3 3 3 3 3 3 3 3 3 3 3 3]\n"
     ]
    }
   ],
   "source": [
    "# Create a numpy array with 10 zeros and print the array.\n",
    "array_zeros = np.zeros(10)\n",
    "print(array_zeros)\n",
    "# Create a numpy array with 6 ones and print the array.\n",
    "array_ones = np.ones(6)\n",
    "print(array_ones)\n",
    "# Create a numpy array with 12 '3's and print the array. [3 3 3 3 3 3 3 3 3 3 3 3]\n",
    "array_threes = np.array([3]*12)\n",
    "print(array_threes)"
   ]
  },
  {
   "cell_type": "code",
   "execution_count": 49,
   "metadata": {},
   "outputs": [
    {
     "name": "stdout",
     "output_type": "stream",
     "text": [
      "[ 8  9 10 11 12 13 14 15 16 17 18 19 20]\n",
      "[ 8 10 12 14 16 18 20]\n"
     ]
    }
   ],
   "source": [
    "# Create a numpy array of the integers from 8 to 20 and print the array. (make sure 20 itself is included) hint:  use \"arange\" method\n",
    "array_range = np.arange(8,21)\n",
    "print(array_range)\n",
    "# Create a numpy array of the even integers from 8 to 20 and print the array. (make sure 20 itself is included)   hint:  use \"arange\" method\n",
    "array_even = np.arange(8,21,2)\n",
    "print(array_even)"
   ]
  },
  {
   "cell_type": "code",
   "execution_count": 72,
   "metadata": {},
   "outputs": [
    {
     "name": "stdout",
     "output_type": "stream",
     "text": [
      "100 Elements array:\n",
      "Mean of the array: 1.9870038075490615\n",
      "Maximum number in the array: 3.5109101542069445\n",
      "Minimum number in the array: 0.9441196589969636\n",
      "Standard deviation of the array: 0.4762053323582924\n",
      "\n",
      "\n",
      "1,000 Elements array:\n",
      "Mean of the array: 1.9747269743348366\n",
      "Maximum number in the array: 3.8404001346270515\n",
      "Minimum number in the array: 0.4146063536924256\n",
      "Standard deviation of the array: 0.4976686288183949\n",
      "\n",
      "\n",
      "100,000 Elements array:\n",
      "Mean of the array: 2.004677506106646\n",
      "Maximum number in the array: 4.12116874489445\n",
      "Minimum number in the array: 0.18067108974895585\n",
      "Standard deviation of the array: 0.5088346194748767\n",
      "\n",
      "\n",
      "While the number of elements increases in the array, the mean of the array gets closer to 2.\n"
     ]
    }
   ],
   "source": [
    "# Create a numpy array consisting of 100 random elements from normal distribution with mean of 2 and std of 0.5. Print the mean, max, min and std of the array.\n",
    "random_array100 = np.random.normal(2,0.5,100)\n",
    "print(\"100 Elements array:\")\n",
    "print(f\"Mean of the array: {random_array100.mean()}\")\n",
    "print(f\"Maximum number in the array: {random_array100.max()}\")\n",
    "print(f\"Minimum number in the array: {random_array100.min()}\")\n",
    "print(f\"Standard deviation of the array: {random_array100.std()}\")\n",
    "print(\"\\n\")\n",
    "# Create a numpy array consisting of 1000 random elements from normal distribution with mean of 2 and std of 0.5. Print the mean, max, min and std of the array.\n",
    "random_array1000 = np.random.normal(2,0.5,1000)\n",
    "print(\"1,000 Elements array:\")\n",
    "print(f\"Mean of the array: {random_array1000.mean()}\")\n",
    "print(f\"Maximum number in the array: {random_array1000.max()}\")\n",
    "print(f\"Minimum number in the array: {random_array1000.min()}\")\n",
    "print(f\"Standard deviation of the array: {random_array1000.std()}\")\n",
    "print(\"\\n\")\n",
    "# Create a numpy array consisting of 1000000 random elements from normal distribution with mean of 2 and std of 0.5. Print the mean, max, min and std of the array.\n",
    "random_array1000000 = np.random.normal(2,0.5,100000)\n",
    "print(\"100,000 Elements array:\")\n",
    "print(f\"Mean of the array: {random_array100000.mean()}\")\n",
    "print(f\"Maximum number in the array: {random_array100000.max()}\")\n",
    "print(f\"Minimum number in the array: {random_array100000.min()}\")\n",
    "print(f\"Standard deviation of the array: {random_array100000.std()}\")\n",
    "print(\"\\n\")\n",
    "# (Bonus question) Looking at the three above examples with 1000, 5000, and 10000 random elements, do you have any observations about mean and std values?\n",
    "print(\"While the number of elements increases in the array, the mean of the array gets closer to 2.\")"
   ]
  },
  {
   "cell_type": "code",
   "execution_count": null,
   "metadata": {},
   "outputs": [],
   "source": []
  }
 ],
 "metadata": {
  "kernelspec": {
   "display_name": "Python 3 (ipykernel)",
   "language": "python",
   "name": "python3"
  },
  "language_info": {
   "codemirror_mode": {
    "name": "ipython",
    "version": 3
   },
   "file_extension": ".py",
   "mimetype": "text/x-python",
   "name": "python",
   "nbconvert_exporter": "python",
   "pygments_lexer": "ipython3",
   "version": "3.9.17"
  }
 },
 "nbformat": 4,
 "nbformat_minor": 1
}
