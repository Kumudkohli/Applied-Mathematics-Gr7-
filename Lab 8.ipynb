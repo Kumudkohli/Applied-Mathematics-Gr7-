{
 "cells": [
  {
   "cell_type": "code",
   "execution_count": 20,
   "metadata": {
    "executionInfo": {
     "elapsed": 658,
     "status": "ok",
     "timestamp": 1694731409417,
     "user": {
      "displayName": "Kaushal Ghelani",
      "userId": "15604323143520460475"
     },
     "user_tz": 240
    },
    "id": "LW0obHNJsBCZ"
   },
   "outputs": [],
   "source": [
    "import numpy as np\n",
    "import pandas as pd\n",
    "from sklearn import datasets\n",
    "from sklearn.model_selection import train_test_split\n",
    "from sklearn.svm import SVC\n",
    "from sklearn.model_selection import GridSearchCV\n",
    "from sklearn.metrics import accuracy_score"
   ]
  },
  {
   "cell_type": "code",
   "execution_count": 12,
   "metadata": {
    "colab": {
     "base_uri": "https://localhost:8080/"
    },
    "executionInfo": {
     "elapsed": 152,
     "status": "ok",
     "timestamp": 1694729848740,
     "user": {
      "displayName": "Kaushal Ghelani",
      "userId": "15604323143520460475"
     },
     "user_tz": 240
    },
    "id": "KEit3cy0sPEt",
    "outputId": "d62ee1fc-7fd6-4467-b8bd-e31291f6639e"
   },
   "outputs": [
    {
     "name": "stdout",
     "output_type": "stream",
     "text": [
      "iris dataset [[5.1 3.5 1.4 0.2]\n",
      " [4.9 3.  1.4 0.2]\n",
      " [4.7 3.2 1.3 0.2]\n",
      " [4.6 3.1 1.5 0.2]\n",
      " [5.  3.6 1.4 0.2]\n",
      " [5.4 3.9 1.7 0.4]\n",
      " [4.6 3.4 1.4 0.3]\n",
      " [5.  3.4 1.5 0.2]\n",
      " [4.4 2.9 1.4 0.2]\n",
      " [4.9 3.1 1.5 0.1]]\n",
      "iris target [0 0 0 0 0 0 0 0 0 0]\n"
     ]
    }
   ],
   "source": [
    "# Import the built-in iris dataset to work with\n",
    "iris = datasets.load_iris() # the dataset consists of 3 different types of irises' (Setosa, Versicolour, and Virginica) petal and sepal length\n",
    "print(\"iris dataset\",iris.data[:10,:])\n",
    "X = iris.data[:, :2] # We only want to use the first two features (Sepal Length, Sepal Width)\n",
    "y = iris.target # corresponding to 'setosa', 'versicolor', 'virginica\n",
    "print(\"iris target\",y[:10,])"
   ]
  },
  {
   "cell_type": "code",
   "execution_count": 5,
   "metadata": {
    "executionInfo": {
     "elapsed": 151,
     "status": "ok",
     "timestamp": 1694729163259,
     "user": {
      "displayName": "Kaushal Ghelani",
      "userId": "15604323143520460475"
     },
     "user_tz": 240
    },
    "id": "329r3LqDt1kG"
   },
   "outputs": [],
   "source": [
    "# Create a linear SVM classifier\n",
    "clf = svm.SVC(kernel='linear')"
   ]
  },
  {
   "cell_type": "code",
   "execution_count": 13,
   "metadata": {
    "executionInfo": {
     "elapsed": 157,
     "status": "ok",
     "timestamp": 1694730519147,
     "user": {
      "displayName": "Kaushal Ghelani",
      "userId": "15604323143520460475"
     },
     "user_tz": 240
    },
    "id": "Mf4lZrz6z2xg"
   },
   "outputs": [],
   "source": [
    "X = iris.data\n",
    "y = iris.target"
   ]
  },
  {
   "cell_type": "code",
   "execution_count": 14,
   "metadata": {
    "colab": {
     "base_uri": "https://localhost:8080/"
    },
    "executionInfo": {
     "elapsed": 152,
     "status": "ok",
     "timestamp": 1694730660294,
     "user": {
      "displayName": "Kaushal Ghelani",
      "userId": "15604323143520460475"
     },
     "user_tz": 240
    },
    "id": "cqjRopP90Y6p",
    "outputId": "8b3ab177-6d3c-41e6-ebb1-b9fefe6d9370"
   },
   "outputs": [
    {
     "name": "stdout",
     "output_type": "stream",
     "text": [
      "First 10 rows of the iris dataset:\n",
      "[[5.1 3.5 1.4 0.2]\n",
      " [4.9 3.  1.4 0.2]\n",
      " [4.7 3.2 1.3 0.2]\n",
      " [4.6 3.1 1.5 0.2]\n",
      " [5.  3.6 1.4 0.2]\n",
      " [5.4 3.9 1.7 0.4]\n",
      " [4.6 3.4 1.4 0.3]\n",
      " [5.  3.4 1.5 0.2]\n",
      " [4.4 2.9 1.4 0.2]\n",
      " [4.9 3.1 1.5 0.1]]\n",
      "First 10 target labels:\n",
      "[0 0 0 0 0 0 0 0 0 0]\n"
     ]
    }
   ],
   "source": [
    "print(\"First 10 rows of the iris dataset:\")\n",
    "print(X[:10, :])\n",
    "\n",
    "print(\"First 10 target labels:\")\n",
    "print(y[:10])"
   ]
  },
  {
   "cell_type": "code",
   "execution_count": 21,
   "metadata": {
    "executionInfo": {
     "elapsed": 216,
     "status": "ok",
     "timestamp": 1694731414048,
     "user": {
      "displayName": "Kaushal Ghelani",
      "userId": "15604323143520460475"
     },
     "user_tz": 240
    },
    "id": "3-TE4HoX3Dz8"
   },
   "outputs": [],
   "source": [
    "X_train, X_test, y_train, y_test = train_test_split(X, y, test_size=0.3, random_state=42)\n"
   ]
  },
  {
   "cell_type": "code",
   "execution_count": 22,
   "metadata": {
    "colab": {
     "base_uri": "https://localhost:8080/"
    },
    "executionInfo": {
     "elapsed": 178,
     "status": "ok",
     "timestamp": 1694731559397,
     "user": {
      "displayName": "Kaushal Ghelani",
      "userId": "15604323143520460475"
     },
     "user_tz": 240
    },
    "id": "RnboaLuy31Qy",
    "outputId": "f195ceac-84c1-44a4-9493-3b34768646ca"
   },
   "outputs": [
    {
     "name": "stdout",
     "output_type": "stream",
     "text": [
      "Accuracy of the Linear SVM: 1.0\n"
     ]
    }
   ],
   "source": [
    "# Create a linear SVM classifier\n",
    "linear_svm = SVC(kernel='linear')\n",
    "\n",
    "# Train the linear SVM classifier on the training data\n",
    "linear_svm.fit(X_train, y_train)\n",
    "\n",
    "# Make predictions on the test data\n",
    "y_pred_linear = linear_svm.predict(X_test)\n",
    "\n",
    "# Calculate the accuracy of the linear SVM\n",
    "accuracy_linear = accuracy_score(y_test, y_pred_linear)\n",
    "\n",
    "print(\"Accuracy of the Linear SVM:\", accuracy_linear)"
   ]
  },
  {
   "cell_type": "code",
   "execution_count": 23,
   "metadata": {
    "colab": {
     "base_uri": "https://localhost:8080/"
    },
    "executionInfo": {
     "elapsed": 544,
     "status": "ok",
     "timestamp": 1694731625677,
     "user": {
      "displayName": "Kaushal Ghelani",
      "userId": "15604323143520460475"
     },
     "user_tz": 240
    },
    "id": "YF_pJnIz4FHv",
    "outputId": "83e2d907-8272-483f-e04e-b3eca04bc57e"
   },
   "outputs": [
    {
     "name": "stdout",
     "output_type": "stream",
     "text": [
      "Best Hyperparameters: {'C': 1, 'gamma': 'scale', 'kernel': 'poly'}\n",
      "Accuracy of the Best SVM: 0.9777777777777777\n"
     ]
    }
   ],
   "source": [
    "# Define the hyperparameter grid to search\n",
    "param_grid = {'C': [0.1, 1, 10, 100],\n",
    "              'kernel': ['linear', 'rbf', 'poly', 'sigmoid'],\n",
    "              'gamma': ['scale', 'auto']}\n",
    "\n",
    "# Create a GridSearchCV object\n",
    "grid_search = GridSearchCV(SVC(), param_grid, cv=5)\n",
    "\n",
    "# Fit the grid search to the training data\n",
    "grid_search.fit(X_train, y_train)\n",
    "\n",
    "# Get the best parameters from the grid search\n",
    "best_params = grid_search.best_params_\n",
    "\n",
    "# Create an SVM classifier with the best hyperparameters\n",
    "best_svm = SVC(**best_params)\n",
    "\n",
    "# Train the SVM classifier on the training data\n",
    "best_svm.fit(X_train, y_train)\n",
    "\n",
    "# Make predictions on the test data using the best SVM\n",
    "y_pred_best = best_svm.predict(X_test)\n",
    "\n",
    "# Calculate the accuracy of the best SVM\n",
    "accuracy_best = accuracy_score(y_test, y_pred_best)\n",
    "\n",
    "print(\"Best Hyperparameters:\", best_params)\n",
    "print(\"Accuracy of the Best SVM:\", accuracy_best)\n"
   ]
  },
  {
   "cell_type": "code",
   "execution_count": 24,
   "metadata": {
    "colab": {
     "base_uri": "https://localhost:8080/"
    },
    "executionInfo": {
     "elapsed": 161,
     "status": "ok",
     "timestamp": 1694731803233,
     "user": {
      "displayName": "Kaushal Ghelani",
      "userId": "15604323143520460475"
     },
     "user_tz": 240
    },
    "id": "BuYTpvBl4wyW",
    "outputId": "0f69ee3b-5fc2-444b-853b-11b648576f3b"
   },
   "outputs": [
    {
     "name": "stdout",
     "output_type": "stream",
     "text": [
      "Accuracy of the Linear SVM: 1.0\n",
      "Accuracy of the Best SVM: 0.9777777777777777\n"
     ]
    }
   ],
   "source": [
    "print(\"Accuracy of the Linear SVM:\", accuracy_linear)\n",
    "print(\"Accuracy of the Best SVM:\", accuracy_best)\n"
   ]
  }
 ],
 "metadata": {
  "colab": {
   "authorship_tag": "ABX9TyMAJYNA0wBGr1vb8kEEKbMh",
   "provenance": [
    {
     "file_id": "1Q0ogYgc6vg_EDAy5VD1lNNuGtrKKxP3T",
     "timestamp": 1694736378204
    }
   ]
  },
  "kernelspec": {
   "display_name": "Python 3 (ipykernel)",
   "language": "python",
   "name": "python3"
  },
  "language_info": {
   "codemirror_mode": {
    "name": "ipython",
    "version": 3
   },
   "file_extension": ".py",
   "mimetype": "text/x-python",
   "name": "python",
   "nbconvert_exporter": "python",
   "pygments_lexer": "ipython3",
   "version": "3.11.4"
  }
 },
 "nbformat": 4,
 "nbformat_minor": 1
}
